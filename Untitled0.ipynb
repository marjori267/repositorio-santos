{
  "nbformat": 4,
  "nbformat_minor": 0,
  "metadata": {
    "colab": {
      "provenance": [],
      "authorship_tag": "ABX9TyNoWG1mVtRx5/MnejKTL3jS",
      "include_colab_link": true
    },
    "kernelspec": {
      "name": "python3",
      "display_name": "Python 3"
    },
    "language_info": {
      "name": "python"
    }
  },
  "cells": [
    {
      "cell_type": "markdown",
      "metadata": {
        "id": "view-in-github",
        "colab_type": "text"
      },
      "source": [
        "<a href=\"https://colab.research.google.com/github/marjori267/repositorio-santos/blob/main/Untitled0.ipynb\" target=\"_parent\"><img src=\"https://colab.research.google.com/assets/colab-badge.svg\" alt=\"Open In Colab\"/></a>"
      ]
    },
    {
      "cell_type": "code",
      "execution_count": 1,
      "metadata": {
        "colab": {
          "base_uri": "https://localhost:8080/"
        },
        "id": "4_di-zk8LMM_",
        "outputId": "fb35d125-86fa-42d7-d7d1-98fcb0c97f4d"
      },
      "outputs": [
        {
          "output_type": "stream",
          "name": "stdout",
          "text": [
            "I competição de programação da Star\n"
          ]
        }
      ],
      "source": [
        "print(\"I competição de programação da Star\")"
      ]
    },
    {
      "cell_type": "code",
      "source": [
        "ano =\"II\"\n",
        "\n",
        "print(ano, \"Competição de Progamação da Star\")"
      ],
      "metadata": {
        "colab": {
          "base_uri": "https://localhost:8080/"
        },
        "id": "yGpfKqfKNiFE",
        "outputId": "a6df6f04-0a62-4cbc-82b6-9a8160f1c34f"
      },
      "execution_count": 2,
      "outputs": [
        {
          "output_type": "stream",
          "name": "stdout",
          "text": [
            "II Competição de Progamação da Star\n"
          ]
        }
      ]
    }
  ]
}